{
 "cells": [
  {
   "cell_type": "code",
   "execution_count": 79,
   "metadata": {},
   "outputs": [],
   "source": [
    "import numpy as np\n",
    "\n",
    "import pandas as pd\n",
    "import matplotlib.pyplot as plt\n",
    " \n"
   ]
  },
  {
   "cell_type": "code",
   "execution_count": 80,
   "metadata": {},
   "outputs": [
    {
     "data": {
      "text/html": [
       "<div>\n",
       "<style scoped>\n",
       "    .dataframe tbody tr th:only-of-type {\n",
       "        vertical-align: middle;\n",
       "    }\n",
       "\n",
       "    .dataframe tbody tr th {\n",
       "        vertical-align: top;\n",
       "    }\n",
       "\n",
       "    .dataframe thead th {\n",
       "        text-align: right;\n",
       "    }\n",
       "</style>\n",
       "<table border=\"1\" class=\"dataframe\">\n",
       "  <thead>\n",
       "    <tr style=\"text-align: right;\">\n",
       "      <th></th>\n",
       "      <th>Order ID</th>\n",
       "      <th>Product</th>\n",
       "      <th>Quantity Ordered</th>\n",
       "      <th>Price Each</th>\n",
       "      <th>Order Date</th>\n",
       "      <th>Purchase Address</th>\n",
       "    </tr>\n",
       "  </thead>\n",
       "  <tbody>\n",
       "    <tr>\n",
       "      <th>0</th>\n",
       "      <td>176558</td>\n",
       "      <td>USB-C Charging Cable</td>\n",
       "      <td>2</td>\n",
       "      <td>11.95</td>\n",
       "      <td>04/19/19 08:46</td>\n",
       "      <td>917 1st St, Dallas, TX 75001</td>\n",
       "    </tr>\n",
       "    <tr>\n",
       "      <th>1</th>\n",
       "      <td>NaN</td>\n",
       "      <td>NaN</td>\n",
       "      <td>NaN</td>\n",
       "      <td>NaN</td>\n",
       "      <td>NaN</td>\n",
       "      <td>NaN</td>\n",
       "    </tr>\n",
       "    <tr>\n",
       "      <th>2</th>\n",
       "      <td>176559</td>\n",
       "      <td>Bose SoundSport Headphones</td>\n",
       "      <td>1</td>\n",
       "      <td>99.99</td>\n",
       "      <td>04/07/19 22:30</td>\n",
       "      <td>682 Chestnut St, Boston, MA 02215</td>\n",
       "    </tr>\n",
       "    <tr>\n",
       "      <th>3</th>\n",
       "      <td>176560</td>\n",
       "      <td>Google Phone</td>\n",
       "      <td>1</td>\n",
       "      <td>600</td>\n",
       "      <td>04/12/19 14:38</td>\n",
       "      <td>669 Spruce St, Los Angeles, CA 90001</td>\n",
       "    </tr>\n",
       "    <tr>\n",
       "      <th>4</th>\n",
       "      <td>176560</td>\n",
       "      <td>Wired Headphones</td>\n",
       "      <td>1</td>\n",
       "      <td>11.99</td>\n",
       "      <td>04/12/19 14:38</td>\n",
       "      <td>669 Spruce St, Los Angeles, CA 90001</td>\n",
       "    </tr>\n",
       "  </tbody>\n",
       "</table>\n",
       "</div>"
      ],
      "text/plain": [
       "  Order ID                     Product Quantity Ordered Price Each  \\\n",
       "0   176558        USB-C Charging Cable                2      11.95   \n",
       "1      NaN                         NaN              NaN        NaN   \n",
       "2   176559  Bose SoundSport Headphones                1      99.99   \n",
       "3   176560                Google Phone                1        600   \n",
       "4   176560            Wired Headphones                1      11.99   \n",
       "\n",
       "       Order Date                      Purchase Address  \n",
       "0  04/19/19 08:46          917 1st St, Dallas, TX 75001  \n",
       "1             NaN                                   NaN  \n",
       "2  04/07/19 22:30     682 Chestnut St, Boston, MA 02215  \n",
       "3  04/12/19 14:38  669 Spruce St, Los Angeles, CA 90001  \n",
       "4  04/12/19 14:38  669 Spruce St, Los Angeles, CA 90001  "
      ]
     },
     "execution_count": 80,
     "metadata": {},
     "output_type": "execute_result"
    }
   ],
   "source": [
    "df=pd.read_csv('./merged_data.csv')\n",
    "df.head()"
   ]
  },
  {
   "cell_type": "code",
   "execution_count": 81,
   "metadata": {},
   "outputs": [
    {
     "name": "stdout",
     "output_type": "stream",
     "text": [
      "<class 'pandas.core.frame.DataFrame'>\n",
      "RangeIndex: 186850 entries, 0 to 186849\n",
      "Data columns (total 6 columns):\n",
      " #   Column            Non-Null Count   Dtype \n",
      "---  ------            --------------   ----- \n",
      " 0   Order ID          186305 non-null  object\n",
      " 1   Product           186305 non-null  object\n",
      " 2   Quantity Ordered  186305 non-null  object\n",
      " 3   Price Each        186305 non-null  object\n",
      " 4   Order Date        186305 non-null  object\n",
      " 5   Purchase Address  186305 non-null  object\n",
      "dtypes: object(6)\n",
      "memory usage: 8.6+ MB\n"
     ]
    }
   ],
   "source": [
    "df.info()"
   ]
  },
  {
   "cell_type": "code",
   "execution_count": 82,
   "metadata": {},
   "outputs": [
    {
     "data": {
      "text/html": [
       "<div>\n",
       "<style scoped>\n",
       "    .dataframe tbody tr th:only-of-type {\n",
       "        vertical-align: middle;\n",
       "    }\n",
       "\n",
       "    .dataframe tbody tr th {\n",
       "        vertical-align: top;\n",
       "    }\n",
       "\n",
       "    .dataframe thead th {\n",
       "        text-align: right;\n",
       "    }\n",
       "</style>\n",
       "<table border=\"1\" class=\"dataframe\">\n",
       "  <thead>\n",
       "    <tr style=\"text-align: right;\">\n",
       "      <th></th>\n",
       "      <th>Order ID</th>\n",
       "      <th>Product</th>\n",
       "      <th>Quantity Ordered</th>\n",
       "      <th>Price Each</th>\n",
       "      <th>Order Date</th>\n",
       "      <th>Purchase Address</th>\n",
       "    </tr>\n",
       "  </thead>\n",
       "  <tbody>\n",
       "    <tr>\n",
       "      <th>1</th>\n",
       "      <td>NaN</td>\n",
       "      <td>NaN</td>\n",
       "      <td>NaN</td>\n",
       "      <td>NaN</td>\n",
       "      <td>NaN</td>\n",
       "      <td>NaN</td>\n",
       "    </tr>\n",
       "    <tr>\n",
       "      <th>356</th>\n",
       "      <td>NaN</td>\n",
       "      <td>NaN</td>\n",
       "      <td>NaN</td>\n",
       "      <td>NaN</td>\n",
       "      <td>NaN</td>\n",
       "      <td>NaN</td>\n",
       "    </tr>\n",
       "    <tr>\n",
       "      <th>735</th>\n",
       "      <td>NaN</td>\n",
       "      <td>NaN</td>\n",
       "      <td>NaN</td>\n",
       "      <td>NaN</td>\n",
       "      <td>NaN</td>\n",
       "      <td>NaN</td>\n",
       "    </tr>\n",
       "    <tr>\n",
       "      <th>1433</th>\n",
       "      <td>NaN</td>\n",
       "      <td>NaN</td>\n",
       "      <td>NaN</td>\n",
       "      <td>NaN</td>\n",
       "      <td>NaN</td>\n",
       "      <td>NaN</td>\n",
       "    </tr>\n",
       "    <tr>\n",
       "      <th>1553</th>\n",
       "      <td>NaN</td>\n",
       "      <td>NaN</td>\n",
       "      <td>NaN</td>\n",
       "      <td>NaN</td>\n",
       "      <td>NaN</td>\n",
       "      <td>NaN</td>\n",
       "    </tr>\n",
       "    <tr>\n",
       "      <th>...</th>\n",
       "      <td>...</td>\n",
       "      <td>...</td>\n",
       "      <td>...</td>\n",
       "      <td>...</td>\n",
       "      <td>...</td>\n",
       "      <td>...</td>\n",
       "    </tr>\n",
       "    <tr>\n",
       "      <th>185176</th>\n",
       "      <td>NaN</td>\n",
       "      <td>NaN</td>\n",
       "      <td>NaN</td>\n",
       "      <td>NaN</td>\n",
       "      <td>NaN</td>\n",
       "      <td>NaN</td>\n",
       "    </tr>\n",
       "    <tr>\n",
       "      <th>185438</th>\n",
       "      <td>NaN</td>\n",
       "      <td>NaN</td>\n",
       "      <td>NaN</td>\n",
       "      <td>NaN</td>\n",
       "      <td>NaN</td>\n",
       "      <td>NaN</td>\n",
       "    </tr>\n",
       "    <tr>\n",
       "      <th>186042</th>\n",
       "      <td>NaN</td>\n",
       "      <td>NaN</td>\n",
       "      <td>NaN</td>\n",
       "      <td>NaN</td>\n",
       "      <td>NaN</td>\n",
       "      <td>NaN</td>\n",
       "    </tr>\n",
       "    <tr>\n",
       "      <th>186548</th>\n",
       "      <td>NaN</td>\n",
       "      <td>NaN</td>\n",
       "      <td>NaN</td>\n",
       "      <td>NaN</td>\n",
       "      <td>NaN</td>\n",
       "      <td>NaN</td>\n",
       "    </tr>\n",
       "    <tr>\n",
       "      <th>186826</th>\n",
       "      <td>NaN</td>\n",
       "      <td>NaN</td>\n",
       "      <td>NaN</td>\n",
       "      <td>NaN</td>\n",
       "      <td>NaN</td>\n",
       "      <td>NaN</td>\n",
       "    </tr>\n",
       "  </tbody>\n",
       "</table>\n",
       "<p>545 rows × 6 columns</p>\n",
       "</div>"
      ],
      "text/plain": [
       "       Order ID Product Quantity Ordered Price Each Order Date  \\\n",
       "1           NaN     NaN              NaN        NaN        NaN   \n",
       "356         NaN     NaN              NaN        NaN        NaN   \n",
       "735         NaN     NaN              NaN        NaN        NaN   \n",
       "1433        NaN     NaN              NaN        NaN        NaN   \n",
       "1553        NaN     NaN              NaN        NaN        NaN   \n",
       "...         ...     ...              ...        ...        ...   \n",
       "185176      NaN     NaN              NaN        NaN        NaN   \n",
       "185438      NaN     NaN              NaN        NaN        NaN   \n",
       "186042      NaN     NaN              NaN        NaN        NaN   \n",
       "186548      NaN     NaN              NaN        NaN        NaN   \n",
       "186826      NaN     NaN              NaN        NaN        NaN   \n",
       "\n",
       "       Purchase Address  \n",
       "1                   NaN  \n",
       "356                 NaN  \n",
       "735                 NaN  \n",
       "1433                NaN  \n",
       "1553                NaN  \n",
       "...                 ...  \n",
       "185176              NaN  \n",
       "185438              NaN  \n",
       "186042              NaN  \n",
       "186548              NaN  \n",
       "186826              NaN  \n",
       "\n",
       "[545 rows x 6 columns]"
      ]
     },
     "execution_count": 82,
     "metadata": {},
     "output_type": "execute_result"
    }
   ],
   "source": [
    "df[df.isna().any(axis=1)] "
   ]
  },
  {
   "cell_type": "code",
   "execution_count": 83,
   "metadata": {},
   "outputs": [
    {
     "data": {
      "text/html": [
       "<div>\n",
       "<style scoped>\n",
       "    .dataframe tbody tr th:only-of-type {\n",
       "        vertical-align: middle;\n",
       "    }\n",
       "\n",
       "    .dataframe tbody tr th {\n",
       "        vertical-align: top;\n",
       "    }\n",
       "\n",
       "    .dataframe thead th {\n",
       "        text-align: right;\n",
       "    }\n",
       "</style>\n",
       "<table border=\"1\" class=\"dataframe\">\n",
       "  <thead>\n",
       "    <tr style=\"text-align: right;\">\n",
       "      <th></th>\n",
       "      <th>Order ID</th>\n",
       "      <th>Product</th>\n",
       "      <th>Quantity Ordered</th>\n",
       "      <th>Price Each</th>\n",
       "      <th>Order Date</th>\n",
       "      <th>Purchase Address</th>\n",
       "    </tr>\n",
       "  </thead>\n",
       "  <tbody>\n",
       "    <tr>\n",
       "      <th>0</th>\n",
       "      <td>176558</td>\n",
       "      <td>USB-C Charging Cable</td>\n",
       "      <td>2</td>\n",
       "      <td>11.95</td>\n",
       "      <td>04/19/19 08:46</td>\n",
       "      <td>917 1st St, Dallas, TX 75001</td>\n",
       "    </tr>\n",
       "    <tr>\n",
       "      <th>2</th>\n",
       "      <td>176559</td>\n",
       "      <td>Bose SoundSport Headphones</td>\n",
       "      <td>1</td>\n",
       "      <td>99.99</td>\n",
       "      <td>04/07/19 22:30</td>\n",
       "      <td>682 Chestnut St, Boston, MA 02215</td>\n",
       "    </tr>\n",
       "    <tr>\n",
       "      <th>3</th>\n",
       "      <td>176560</td>\n",
       "      <td>Google Phone</td>\n",
       "      <td>1</td>\n",
       "      <td>600</td>\n",
       "      <td>04/12/19 14:38</td>\n",
       "      <td>669 Spruce St, Los Angeles, CA 90001</td>\n",
       "    </tr>\n",
       "    <tr>\n",
       "      <th>4</th>\n",
       "      <td>176560</td>\n",
       "      <td>Wired Headphones</td>\n",
       "      <td>1</td>\n",
       "      <td>11.99</td>\n",
       "      <td>04/12/19 14:38</td>\n",
       "      <td>669 Spruce St, Los Angeles, CA 90001</td>\n",
       "    </tr>\n",
       "    <tr>\n",
       "      <th>5</th>\n",
       "      <td>176561</td>\n",
       "      <td>Wired Headphones</td>\n",
       "      <td>1</td>\n",
       "      <td>11.99</td>\n",
       "      <td>04/30/19 09:27</td>\n",
       "      <td>333 8th St, Los Angeles, CA 90001</td>\n",
       "    </tr>\n",
       "    <tr>\n",
       "      <th>...</th>\n",
       "      <td>...</td>\n",
       "      <td>...</td>\n",
       "      <td>...</td>\n",
       "      <td>...</td>\n",
       "      <td>...</td>\n",
       "      <td>...</td>\n",
       "    </tr>\n",
       "    <tr>\n",
       "      <th>186845</th>\n",
       "      <td>259353</td>\n",
       "      <td>AAA Batteries (4-pack)</td>\n",
       "      <td>3</td>\n",
       "      <td>2.99</td>\n",
       "      <td>09/17/19 20:56</td>\n",
       "      <td>840 Highland St, Los Angeles, CA 90001</td>\n",
       "    </tr>\n",
       "    <tr>\n",
       "      <th>186846</th>\n",
       "      <td>259354</td>\n",
       "      <td>iPhone</td>\n",
       "      <td>1</td>\n",
       "      <td>700</td>\n",
       "      <td>09/01/19 16:00</td>\n",
       "      <td>216 Dogwood St, San Francisco, CA 94016</td>\n",
       "    </tr>\n",
       "    <tr>\n",
       "      <th>186847</th>\n",
       "      <td>259355</td>\n",
       "      <td>iPhone</td>\n",
       "      <td>1</td>\n",
       "      <td>700</td>\n",
       "      <td>09/23/19 07:39</td>\n",
       "      <td>220 12th St, San Francisco, CA 94016</td>\n",
       "    </tr>\n",
       "    <tr>\n",
       "      <th>186848</th>\n",
       "      <td>259356</td>\n",
       "      <td>34in Ultrawide Monitor</td>\n",
       "      <td>1</td>\n",
       "      <td>379.99</td>\n",
       "      <td>09/19/19 17:30</td>\n",
       "      <td>511 Forest St, San Francisco, CA 94016</td>\n",
       "    </tr>\n",
       "    <tr>\n",
       "      <th>186849</th>\n",
       "      <td>259357</td>\n",
       "      <td>USB-C Charging Cable</td>\n",
       "      <td>1</td>\n",
       "      <td>11.95</td>\n",
       "      <td>09/30/19 00:18</td>\n",
       "      <td>250 Meadow St, San Francisco, CA 94016</td>\n",
       "    </tr>\n",
       "  </tbody>\n",
       "</table>\n",
       "<p>186305 rows × 6 columns</p>\n",
       "</div>"
      ],
      "text/plain": [
       "       Order ID                     Product Quantity Ordered Price Each  \\\n",
       "0        176558        USB-C Charging Cable                2      11.95   \n",
       "2        176559  Bose SoundSport Headphones                1      99.99   \n",
       "3        176560                Google Phone                1        600   \n",
       "4        176560            Wired Headphones                1      11.99   \n",
       "5        176561            Wired Headphones                1      11.99   \n",
       "...         ...                         ...              ...        ...   \n",
       "186845   259353      AAA Batteries (4-pack)                3       2.99   \n",
       "186846   259354                      iPhone                1        700   \n",
       "186847   259355                      iPhone                1        700   \n",
       "186848   259356      34in Ultrawide Monitor                1     379.99   \n",
       "186849   259357        USB-C Charging Cable                1      11.95   \n",
       "\n",
       "            Order Date                         Purchase Address  \n",
       "0       04/19/19 08:46             917 1st St, Dallas, TX 75001  \n",
       "2       04/07/19 22:30        682 Chestnut St, Boston, MA 02215  \n",
       "3       04/12/19 14:38     669 Spruce St, Los Angeles, CA 90001  \n",
       "4       04/12/19 14:38     669 Spruce St, Los Angeles, CA 90001  \n",
       "5       04/30/19 09:27        333 8th St, Los Angeles, CA 90001  \n",
       "...                ...                                      ...  \n",
       "186845  09/17/19 20:56   840 Highland St, Los Angeles, CA 90001  \n",
       "186846  09/01/19 16:00  216 Dogwood St, San Francisco, CA 94016  \n",
       "186847  09/23/19 07:39     220 12th St, San Francisco, CA 94016  \n",
       "186848  09/19/19 17:30   511 Forest St, San Francisco, CA 94016  \n",
       "186849  09/30/19 00:18   250 Meadow St, San Francisco, CA 94016  \n",
       "\n",
       "[186305 rows x 6 columns]"
      ]
     },
     "execution_count": 83,
     "metadata": {},
     "output_type": "execute_result"
    }
   ],
   "source": [
    "df=df.dropna(axis=0)\n",
    "df"
   ]
  },
  {
   "cell_type": "markdown",
   "metadata": {},
   "source": [
    "# altering columns"
   ]
  },
  {
   "cell_type": "markdown",
   "metadata": {},
   "source": [
    "### extracting month"
   ]
  },
  {
   "cell_type": "code",
   "execution_count": 84,
   "metadata": {},
   "outputs": [],
   "source": [
    "def getMonth(date:str)->str:\n",
    "    return int(date.split('/')[0])-1 #get zero based \n",
    "\n",
    "def isDate(date:str)->bool:\n",
    "    try:\n",
    "        getMonth(date)\n",
    "        return True\n",
    "    except ValueError:\n",
    "        return False"
   ]
  },
  {
   "cell_type": "markdown",
   "metadata": {},
   "source": [
    "### removing invalid dates"
   ]
  },
  {
   "cell_type": "code",
   "execution_count": 85,
   "metadata": {},
   "outputs": [],
   "source": [
    "df=df[df['Order Date'].apply(lambda x: isDate(x))]"
   ]
  },
  {
   "cell_type": "code",
   "execution_count": 86,
   "metadata": {},
   "outputs": [
    {
     "data": {
      "text/html": [
       "<div>\n",
       "<style scoped>\n",
       "    .dataframe tbody tr th:only-of-type {\n",
       "        vertical-align: middle;\n",
       "    }\n",
       "\n",
       "    .dataframe tbody tr th {\n",
       "        vertical-align: top;\n",
       "    }\n",
       "\n",
       "    .dataframe thead th {\n",
       "        text-align: right;\n",
       "    }\n",
       "</style>\n",
       "<table border=\"1\" class=\"dataframe\">\n",
       "  <thead>\n",
       "    <tr style=\"text-align: right;\">\n",
       "      <th></th>\n",
       "      <th>Order ID</th>\n",
       "      <th>Product</th>\n",
       "      <th>Quantity Ordered</th>\n",
       "      <th>Price Each</th>\n",
       "      <th>Order Date</th>\n",
       "      <th>Purchase Address</th>\n",
       "    </tr>\n",
       "  </thead>\n",
       "  <tbody>\n",
       "    <tr>\n",
       "      <th>0</th>\n",
       "      <td>176558</td>\n",
       "      <td>USB-C Charging Cable</td>\n",
       "      <td>2</td>\n",
       "      <td>11.95</td>\n",
       "      <td>04/19/19 08:46</td>\n",
       "      <td>917 1st St, Dallas, TX 75001</td>\n",
       "    </tr>\n",
       "    <tr>\n",
       "      <th>2</th>\n",
       "      <td>176559</td>\n",
       "      <td>Bose SoundSport Headphones</td>\n",
       "      <td>1</td>\n",
       "      <td>99.99</td>\n",
       "      <td>04/07/19 22:30</td>\n",
       "      <td>682 Chestnut St, Boston, MA 02215</td>\n",
       "    </tr>\n",
       "    <tr>\n",
       "      <th>3</th>\n",
       "      <td>176560</td>\n",
       "      <td>Google Phone</td>\n",
       "      <td>1</td>\n",
       "      <td>600</td>\n",
       "      <td>04/12/19 14:38</td>\n",
       "      <td>669 Spruce St, Los Angeles, CA 90001</td>\n",
       "    </tr>\n",
       "    <tr>\n",
       "      <th>4</th>\n",
       "      <td>176560</td>\n",
       "      <td>Wired Headphones</td>\n",
       "      <td>1</td>\n",
       "      <td>11.99</td>\n",
       "      <td>04/12/19 14:38</td>\n",
       "      <td>669 Spruce St, Los Angeles, CA 90001</td>\n",
       "    </tr>\n",
       "    <tr>\n",
       "      <th>5</th>\n",
       "      <td>176561</td>\n",
       "      <td>Wired Headphones</td>\n",
       "      <td>1</td>\n",
       "      <td>11.99</td>\n",
       "      <td>04/30/19 09:27</td>\n",
       "      <td>333 8th St, Los Angeles, CA 90001</td>\n",
       "    </tr>\n",
       "  </tbody>\n",
       "</table>\n",
       "</div>"
      ],
      "text/plain": [
       "  Order ID                     Product Quantity Ordered Price Each  \\\n",
       "0   176558        USB-C Charging Cable                2      11.95   \n",
       "2   176559  Bose SoundSport Headphones                1      99.99   \n",
       "3   176560                Google Phone                1        600   \n",
       "4   176560            Wired Headphones                1      11.99   \n",
       "5   176561            Wired Headphones                1      11.99   \n",
       "\n",
       "       Order Date                      Purchase Address  \n",
       "0  04/19/19 08:46          917 1st St, Dallas, TX 75001  \n",
       "2  04/07/19 22:30     682 Chestnut St, Boston, MA 02215  \n",
       "3  04/12/19 14:38  669 Spruce St, Los Angeles, CA 90001  \n",
       "4  04/12/19 14:38  669 Spruce St, Los Angeles, CA 90001  \n",
       "5  04/30/19 09:27     333 8th St, Los Angeles, CA 90001  "
      ]
     },
     "execution_count": 86,
     "metadata": {},
     "output_type": "execute_result"
    }
   ],
   "source": [
    "df.head()"
   ]
  },
  {
   "cell_type": "code",
   "execution_count": 87,
   "metadata": {},
   "outputs": [
    {
     "name": "stderr",
     "output_type": "stream",
     "text": [
      "C:\\Users\\user\\AppData\\Local\\Temp/ipykernel_14844/3503636692.py:1: SettingWithCopyWarning: \n",
      "A value is trying to be set on a copy of a slice from a DataFrame.\n",
      "Try using .loc[row_indexer,col_indexer] = value instead\n",
      "\n",
      "See the caveats in the documentation: https://pandas.pydata.org/pandas-docs/stable/user_guide/indexing.html#returning-a-view-versus-a-copy\n",
      "  df['month']=df['Order Date'].apply(lambda x: getMonth(x))\n"
     ]
    }
   ],
   "source": [
    "df['month']=df['Order Date'].apply(lambda x: getMonth(x))"
   ]
  },
  {
   "cell_type": "code",
   "execution_count": 88,
   "metadata": {},
   "outputs": [
    {
     "data": {
      "text/html": [
       "<div>\n",
       "<style scoped>\n",
       "    .dataframe tbody tr th:only-of-type {\n",
       "        vertical-align: middle;\n",
       "    }\n",
       "\n",
       "    .dataframe tbody tr th {\n",
       "        vertical-align: top;\n",
       "    }\n",
       "\n",
       "    .dataframe thead th {\n",
       "        text-align: right;\n",
       "    }\n",
       "</style>\n",
       "<table border=\"1\" class=\"dataframe\">\n",
       "  <thead>\n",
       "    <tr style=\"text-align: right;\">\n",
       "      <th></th>\n",
       "      <th>Order ID</th>\n",
       "      <th>Product</th>\n",
       "      <th>Quantity Ordered</th>\n",
       "      <th>Price Each</th>\n",
       "      <th>Order Date</th>\n",
       "      <th>Purchase Address</th>\n",
       "      <th>month</th>\n",
       "    </tr>\n",
       "  </thead>\n",
       "  <tbody>\n",
       "    <tr>\n",
       "      <th>0</th>\n",
       "      <td>176558</td>\n",
       "      <td>USB-C Charging Cable</td>\n",
       "      <td>2</td>\n",
       "      <td>11.95</td>\n",
       "      <td>04/19/19 08:46</td>\n",
       "      <td>917 1st St, Dallas, TX 75001</td>\n",
       "      <td>3</td>\n",
       "    </tr>\n",
       "    <tr>\n",
       "      <th>2</th>\n",
       "      <td>176559</td>\n",
       "      <td>Bose SoundSport Headphones</td>\n",
       "      <td>1</td>\n",
       "      <td>99.99</td>\n",
       "      <td>04/07/19 22:30</td>\n",
       "      <td>682 Chestnut St, Boston, MA 02215</td>\n",
       "      <td>3</td>\n",
       "    </tr>\n",
       "    <tr>\n",
       "      <th>3</th>\n",
       "      <td>176560</td>\n",
       "      <td>Google Phone</td>\n",
       "      <td>1</td>\n",
       "      <td>600</td>\n",
       "      <td>04/12/19 14:38</td>\n",
       "      <td>669 Spruce St, Los Angeles, CA 90001</td>\n",
       "      <td>3</td>\n",
       "    </tr>\n",
       "    <tr>\n",
       "      <th>4</th>\n",
       "      <td>176560</td>\n",
       "      <td>Wired Headphones</td>\n",
       "      <td>1</td>\n",
       "      <td>11.99</td>\n",
       "      <td>04/12/19 14:38</td>\n",
       "      <td>669 Spruce St, Los Angeles, CA 90001</td>\n",
       "      <td>3</td>\n",
       "    </tr>\n",
       "    <tr>\n",
       "      <th>5</th>\n",
       "      <td>176561</td>\n",
       "      <td>Wired Headphones</td>\n",
       "      <td>1</td>\n",
       "      <td>11.99</td>\n",
       "      <td>04/30/19 09:27</td>\n",
       "      <td>333 8th St, Los Angeles, CA 90001</td>\n",
       "      <td>3</td>\n",
       "    </tr>\n",
       "  </tbody>\n",
       "</table>\n",
       "</div>"
      ],
      "text/plain": [
       "  Order ID                     Product Quantity Ordered Price Each  \\\n",
       "0   176558        USB-C Charging Cable                2      11.95   \n",
       "2   176559  Bose SoundSport Headphones                1      99.99   \n",
       "3   176560                Google Phone                1        600   \n",
       "4   176560            Wired Headphones                1      11.99   \n",
       "5   176561            Wired Headphones                1      11.99   \n",
       "\n",
       "       Order Date                      Purchase Address  month  \n",
       "0  04/19/19 08:46          917 1st St, Dallas, TX 75001      3  \n",
       "2  04/07/19 22:30     682 Chestnut St, Boston, MA 02215      3  \n",
       "3  04/12/19 14:38  669 Spruce St, Los Angeles, CA 90001      3  \n",
       "4  04/12/19 14:38  669 Spruce St, Los Angeles, CA 90001      3  \n",
       "5  04/30/19 09:27     333 8th St, Los Angeles, CA 90001      3  "
      ]
     },
     "execution_count": 88,
     "metadata": {},
     "output_type": "execute_result"
    }
   ],
   "source": [
    "df.head()"
   ]
  },
  {
   "cell_type": "code",
   "execution_count": 89,
   "metadata": {},
   "outputs": [
    {
     "data": {
      "text/plain": [
       "<AxesSubplot:>"
      ]
     },
     "execution_count": 89,
     "metadata": {},
     "output_type": "execute_result"
    },
    {
     "data": {
      "image/png": "[encoded data removed]",
      "text/plain": [
       "<Figure size 432x288 with 1 Axes>"
      ]
     },
     "metadata": {
      "needs_background": "light"
     },
     "output_type": "display_data"
    }
   ],
   "source": [
    "df['month'].value_counts().sort_index().plot(kind=\"bar\")"
   ]
  },
  {
   "cell_type": "markdown",
   "metadata": {},
   "source": [
    "# fixing data types"
   ]
  },
  {
   "cell_type": "code",
   "execution_count": 90,
   "metadata": {},
   "outputs": [
    {
     "name": "stderr",
     "output_type": "stream",
     "text": [
      "C:\\Users\\user\\AppData\\Local\\Temp/ipykernel_14844/4087364604.py:1: SettingWithCopyWarning: \n",
      "A value is trying to be set on a copy of a slice from a DataFrame.\n",
      "Try using .loc[row_indexer,col_indexer] = value instead\n",
      "\n",
      "See the caveats in the documentation: https://pandas.pydata.org/pandas-docs/stable/user_guide/indexing.html#returning-a-view-versus-a-copy\n",
      "  df['Price Each']= df['Price Each'].astype('float64')\n"
     ]
    }
   ],
   "source": [
    "df['Price Each']= df['Price Each'].astype('float64')"
   ]
  },
  {
   "cell_type": "code",
   "execution_count": 91,
   "metadata": {},
   "outputs": [
    {
     "name": "stderr",
     "output_type": "stream",
     "text": [
      "C:\\Users\\user\\AppData\\Local\\Temp/ipykernel_14844/2000144462.py:1: SettingWithCopyWarning: \n",
      "A value is trying to be set on a copy of a slice from a DataFrame.\n",
      "Try using .loc[row_indexer,col_indexer] = value instead\n",
      "\n",
      "See the caveats in the documentation: https://pandas.pydata.org/pandas-docs/stable/user_guide/indexing.html#returning-a-view-versus-a-copy\n",
      "  df['Quantity Ordered']=df['Quantity Ordered'].astype('int32')\n"
     ]
    }
   ],
   "source": [
    "df['Quantity Ordered']=df['Quantity Ordered'].astype('int32')"
   ]
  },
  {
   "cell_type": "code",
   "execution_count": 92,
   "metadata": {},
   "outputs": [
    {
     "name": "stdout",
     "output_type": "stream",
     "text": [
      "<class 'pandas.core.frame.DataFrame'>\n",
      "Int64Index: 185950 entries, 0 to 186849\n",
      "Data columns (total 7 columns):\n",
      " #   Column            Non-Null Count   Dtype  \n",
      "---  ------            --------------   -----  \n",
      " 0   Order ID          185950 non-null  object \n",
      " 1   Product           185950 non-null  object \n",
      " 2   Quantity Ordered  185950 non-null  int32  \n",
      " 3   Price Each        185950 non-null  float64\n",
      " 4   Order Date        185950 non-null  object \n",
      " 5   Purchase Address  185950 non-null  object \n",
      " 6   month             185950 non-null  int64  \n",
      "dtypes: float64(1), int32(1), int64(1), object(4)\n",
      "memory usage: 10.6+ MB\n"
     ]
    }
   ],
   "source": [
    "df.info()"
   ]
  },
  {
   "cell_type": "markdown",
   "metadata": {},
   "source": [
    "### finding relations between month and product sales"
   ]
  },
  {
   "cell_type": "code",
   "execution_count": 93,
   "metadata": {},
   "outputs": [
    {
     "data": {
      "text/plain": [
       "Text(0.5, 1.0, 'february')"
      ]
     },
     "execution_count": 93,
     "metadata": {},
     "output_type": "execute_result"
    },
    {
     "data": {
      "image/png": "[encoded data removed]",
      "text/plain": [
       "<Figure size 432x288 with 1 Axes>"
      ]
     },
     "metadata": {
      "needs_background": "light"
     },
     "output_type": "display_data"
    }
   ],
   "source": [
    "df[df['month']==1]['Product'].value_counts().plot(kind='bar')\n",
    "plt.title('february')"
   ]
  },
  {
   "cell_type": "code",
   "execution_count": 94,
   "metadata": {},
   "outputs": [
    {
     "data": {
      "text/plain": [
       "Text(0.5, 1.0, 'january')"
      ]
     },
     "execution_count": 94,
     "metadata": {},
     "output_type": "execute_result"
    },
    {
     "data": {
      "image/png": "[encoded data removed]",
      "text/plain": [
       "<Figure size 432x288 with 1 Axes>"
      ]
     },
     "metadata": {
      "needs_background": "light"
     },
     "output_type": "display_data"
    }
   ],
   "source": [
    "df[df['month']==0]['Product'].value_counts().plot(kind='bar')\n",
    "plt.title('january')"
   ]
  },
  {
   "cell_type": "code",
   "execution_count": 95,
   "metadata": {},
   "outputs": [
    {
     "data": {
      "text/plain": [
       "Text(0.5, 1.0, 'march')"
      ]
     },
     "execution_count": 95,
     "metadata": {},
     "output_type": "execute_result"
    },
    {
     "data": {
      "image/png": "[encoded data removed]",
      "text/plain": [
       "<Figure size 432x288 with 1 Axes>"
      ]
     },
     "metadata": {
      "needs_background": "light"
     },
     "output_type": "display_data"
    }
   ],
   "source": [
    "df[df['month']==2]['Product'].value_counts().plot(kind='bar')\n",
    "plt.title('march')"
   ]
  },
  {
   "cell_type": "code",
   "execution_count": 96,
   "metadata": {},
   "outputs": [
    {
     "data": {
      "text/plain": [
       "Text(0.5, 1.0, 'april')"
      ]
     },
     "execution_count": 96,
     "metadata": {},
     "output_type": "execute_result"
    },
    {
     "data": {
      "image/png": "[encoded data removed]",
      "text/plain": [
       "<Figure size 432x288 with 1 Axes>"
      ]
     },
     "metadata": {
      "needs_background": "light"
     },
     "output_type": "display_data"
    }
   ],
   "source": [
    "df[df['month']==3]['Product'].value_counts().plot(kind='bar')\n",
    "plt.title('april')"
   ]
  },
  {
   "cell_type": "code",
   "execution_count": 97,
   "metadata": {},
   "outputs": [
    {
     "data": {
      "text/plain": [
       "{'USB-C Charging Cable': 0,\n",
       " 'Bose SoundSport Headphones': 1,\n",
       " 'Google Phone': 2,\n",
       " 'Wired Headphones': 3,\n",
       " 'Macbook Pro Laptop': 4,\n",
       " 'Lightning Charging Cable': 5,\n",
       " '27in 4K Gaming Monitor': 6,\n",
       " 'AA Batteries (4-pack)': 7,\n",
       " 'Apple Airpods Headphones': 8,\n",
       " 'AAA Batteries (4-pack)': 9,\n",
       " 'iPhone': 10,\n",
       " 'Flatscreen TV': 11,\n",
       " '27in FHD Monitor': 12,\n",
       " '20in Monitor': 13,\n",
       " 'LG Dryer': 14,\n",
       " 'ThinkPad Laptop': 15,\n",
       " 'Vareebadd Phone': 16,\n",
       " 'LG Washing Machine': 17,\n",
       " '34in Ultrawide Monitor': 18}"
      ]
     },
     "execution_count": 97,
     "metadata": {},
     "output_type": "execute_result"
    }
   ],
   "source": [
    "\n",
    "itemIndex=0\n",
    "itemDict={}\n",
    "for n in df['Product'].unique():\n",
    "    itemDict[n]=itemIndex\n",
    "    itemIndex+=1\n",
    "\n",
    "itemDict"
   ]
  },
  {
   "cell_type": "markdown",
   "metadata": {},
   "source": [
    "## labeling products as numbers"
   ]
  },
  {
   "cell_type": "code",
   "execution_count": 98,
   "metadata": {},
   "outputs": [
    {
     "name": "stderr",
     "output_type": "stream",
     "text": [
      "C:\\Users\\user\\AppData\\Local\\Temp/ipykernel_14844/1229344904.py:1: SettingWithCopyWarning: \n",
      "A value is trying to be set on a copy of a slice from a DataFrame.\n",
      "Try using .loc[row_indexer,col_indexer] = value instead\n",
      "\n",
      "See the caveats in the documentation: https://pandas.pydata.org/pandas-docs/stable/user_guide/indexing.html#returning-a-view-versus-a-copy\n",
      "  df['productID']=df['Product'].apply(lambda x: itemDict[x])\n"
     ]
    }
   ],
   "source": [
    "df['productID']=df['Product'].apply(lambda x: itemDict[x])"
   ]
  },
  {
   "cell_type": "code",
   "execution_count": 99,
   "metadata": {},
   "outputs": [
    {
     "data": {
      "text/html": [
       "<div>\n",
       "<style scoped>\n",
       "    .dataframe tbody tr th:only-of-type {\n",
       "        vertical-align: middle;\n",
       "    }\n",
       "\n",
       "    .dataframe tbody tr th {\n",
       "        vertical-align: top;\n",
       "    }\n",
       "\n",
       "    .dataframe thead th {\n",
       "        text-align: right;\n",
       "    }\n",
       "</style>\n",
       "<table border=\"1\" class=\"dataframe\">\n",
       "  <thead>\n",
       "    <tr style=\"text-align: right;\">\n",
       "      <th></th>\n",
       "      <th>Order ID</th>\n",
       "      <th>Product</th>\n",
       "      <th>Quantity Ordered</th>\n",
       "      <th>Price Each</th>\n",
       "      <th>Order Date</th>\n",
       "      <th>Purchase Address</th>\n",
       "      <th>month</th>\n",
       "      <th>productID</th>\n",
       "    </tr>\n",
       "  </thead>\n",
       "  <tbody>\n",
       "    <tr>\n",
       "      <th>114873</th>\n",
       "      <td>171186</td>\n",
       "      <td>ThinkPad Laptop</td>\n",
       "      <td>1</td>\n",
       "      <td>999.99</td>\n",
       "      <td>03/01/19 10:25</td>\n",
       "      <td>736 North St, Dallas, TX 75001</td>\n",
       "      <td>2</td>\n",
       "      <td>15</td>\n",
       "    </tr>\n",
       "    <tr>\n",
       "      <th>40567</th>\n",
       "      <td>305366</td>\n",
       "      <td>AA Batteries (4-pack)</td>\n",
       "      <td>1</td>\n",
       "      <td>3.84</td>\n",
       "      <td>12/20/19 16:19</td>\n",
       "      <td>634 Lincoln St, Boston, MA 02215</td>\n",
       "      <td>11</td>\n",
       "      <td>7</td>\n",
       "    </tr>\n",
       "    <tr>\n",
       "      <th>96921</th>\n",
       "      <td>214930</td>\n",
       "      <td>AAA Batteries (4-pack)</td>\n",
       "      <td>1</td>\n",
       "      <td>2.99</td>\n",
       "      <td>06/25/19 16:47</td>\n",
       "      <td>39 Forest St, San Francisco, CA 94016</td>\n",
       "      <td>5</td>\n",
       "      <td>9</td>\n",
       "    </tr>\n",
       "    <tr>\n",
       "      <th>34000</th>\n",
       "      <td>299101</td>\n",
       "      <td>Lightning Charging Cable</td>\n",
       "      <td>1</td>\n",
       "      <td>14.95</td>\n",
       "      <td>12/28/19 22:37</td>\n",
       "      <td>76 Pine St, Dallas, TX 75001</td>\n",
       "      <td>11</td>\n",
       "      <td>5</td>\n",
       "    </tr>\n",
       "    <tr>\n",
       "      <th>10760</th>\n",
       "      <td>186830</td>\n",
       "      <td>AA Batteries (4-pack)</td>\n",
       "      <td>2</td>\n",
       "      <td>3.84</td>\n",
       "      <td>04/13/19 21:34</td>\n",
       "      <td>997 10th St, San Francisco, CA 94016</td>\n",
       "      <td>3</td>\n",
       "      <td>7</td>\n",
       "    </tr>\n",
       "    <tr>\n",
       "      <th>153789</th>\n",
       "      <td>294716</td>\n",
       "      <td>Bose SoundSport Headphones</td>\n",
       "      <td>1</td>\n",
       "      <td>99.99</td>\n",
       "      <td>11/19/19 19:09</td>\n",
       "      <td>721 Jefferson St, Seattle, WA 98101</td>\n",
       "      <td>10</td>\n",
       "      <td>1</td>\n",
       "    </tr>\n",
       "    <tr>\n",
       "      <th>67172</th>\n",
       "      <td>161648</td>\n",
       "      <td>AA Batteries (4-pack)</td>\n",
       "      <td>2</td>\n",
       "      <td>3.84</td>\n",
       "      <td>02/17/19 08:36</td>\n",
       "      <td>792 Lakeview St, Dallas, TX 75001</td>\n",
       "      <td>1</td>\n",
       "      <td>7</td>\n",
       "    </tr>\n",
       "    <tr>\n",
       "      <th>102413</th>\n",
       "      <td>220196</td>\n",
       "      <td>Wired Headphones</td>\n",
       "      <td>1</td>\n",
       "      <td>11.99</td>\n",
       "      <td>06/07/19 19:35</td>\n",
       "      <td>927 Forest St, Los Angeles, CA 90001</td>\n",
       "      <td>5</td>\n",
       "      <td>3</td>\n",
       "    </tr>\n",
       "    <tr>\n",
       "      <th>39173</th>\n",
       "      <td>304036</td>\n",
       "      <td>AAA Batteries (4-pack)</td>\n",
       "      <td>1</td>\n",
       "      <td>2.99</td>\n",
       "      <td>12/03/19 14:22</td>\n",
       "      <td>707 8th St, San Francisco, CA 94016</td>\n",
       "      <td>11</td>\n",
       "      <td>9</td>\n",
       "    </tr>\n",
       "    <tr>\n",
       "      <th>94861</th>\n",
       "      <td>212979</td>\n",
       "      <td>Flatscreen TV</td>\n",
       "      <td>1</td>\n",
       "      <td>300.00</td>\n",
       "      <td>06/01/19 12:05</td>\n",
       "      <td>35 Cherry St, San Francisco, CA 94016</td>\n",
       "      <td>5</td>\n",
       "      <td>11</td>\n",
       "    </tr>\n",
       "  </tbody>\n",
       "</table>\n",
       "</div>"
      ],
      "text/plain": [
       "       Order ID                     Product  Quantity Ordered  Price Each  \\\n",
       "114873   171186             ThinkPad Laptop                 1      999.99   \n",
       "40567    305366       AA Batteries (4-pack)                 1        3.84   \n",
       "96921    214930      AAA Batteries (4-pack)                 1        2.99   \n",
       "34000    299101    Lightning Charging Cable                 1       14.95   \n",
       "10760    186830       AA Batteries (4-pack)                 2        3.84   \n",
       "153789   294716  Bose SoundSport Headphones                 1       99.99   \n",
       "67172    161648       AA Batteries (4-pack)                 2        3.84   \n",
       "102413   220196            Wired Headphones                 1       11.99   \n",
       "39173    304036      AAA Batteries (4-pack)                 1        2.99   \n",
       "94861    212979               Flatscreen TV                 1      300.00   \n",
       "\n",
       "            Order Date                       Purchase Address  month  \\\n",
       "114873  03/01/19 10:25         736 North St, Dallas, TX 75001      2   \n",
       "40567   12/20/19 16:19       634 Lincoln St, Boston, MA 02215     11   \n",
       "96921   06/25/19 16:47  39 Forest St, San Francisco, CA 94016      5   \n",
       "34000   12/28/19 22:37           76 Pine St, Dallas, TX 75001     11   \n",
       "10760   04/13/19 21:34   997 10th St, San Francisco, CA 94016      3   \n",
       "153789  11/19/19 19:09    721 Jefferson St, Seattle, WA 98101     10   \n",
       "67172   02/17/19 08:36      792 Lakeview St, Dallas, TX 75001      1   \n",
       "102413  06/07/19 19:35   927 Forest St, Los Angeles, CA 90001      5   \n",
       "39173   12/03/19 14:22    707 8th St, San Francisco, CA 94016     11   \n",
       "94861   06/01/19 12:05  35 Cherry St, San Francisco, CA 94016      5   \n",
       "\n",
       "        productID  \n",
       "114873         15  \n",
       "40567           7  \n",
       "96921           9  \n",
       "34000           5  \n",
       "10760           7  \n",
       "153789          1  \n",
       "67172           7  \n",
       "102413          3  \n",
       "39173           9  \n",
       "94861          11  "
      ]
     },
     "execution_count": 99,
     "metadata": {},
     "output_type": "execute_result"
    }
   ],
   "source": [
    "df.sample(10)"
   ]
  },
  {
   "cell_type": "markdown",
   "metadata": {},
   "source": [
    "## product to month relation"
   ]
  },
  {
   "cell_type": "code",
   "execution_count": 100,
   "metadata": {},
   "outputs": [
    {
     "data": {
      "text/plain": [
       "0     1174\n",
       "7     1344\n",
       "8     1454\n",
       "1     1514\n",
       "5     1534\n",
       "6     1668\n",
       "2     1770\n",
       "4     1883\n",
       "10    2062\n",
       "3     2078\n",
       "9     2442\n",
       "11    2980\n",
       "Name: month, dtype: int64"
      ]
     },
     "execution_count": 100,
     "metadata": {},
     "output_type": "execute_result"
    }
   ],
   "source": [
    "df[df['productID']==0]['month'].value_counts().sort_values()"
   ]
  },
  {
   "cell_type": "code",
   "execution_count": 101,
   "metadata": {},
   "outputs": [
    {
     "data": {
      "text/plain": [
       "Text(0.5, 1.0, 'USB-C Charging Cable sales in january')"
      ]
     },
     "execution_count": 101,
     "metadata": {},
     "output_type": "execute_result"
    },
    {
     "data": {
      "image/png": "[encoded data removed]",
      "text/plain": [
       "<Figure size 1080x1080 with 1 Axes>"
      ]
     },
     "metadata": {
      "needs_background": "light"
     },
     "output_type": "display_data"
    }
   ],
   "source": [
    "df[df['productID']==0]['month'].value_counts().sort_values().plot(kind='bar',figsize=(15,15))\n",
    "plt.title('USB-C Charging Cable sales in january')"
   ]
  },
  {
   "cell_type": "code",
   "execution_count": 102,
   "metadata": {},
   "outputs": [
    {
     "data": {
      "text/plain": [
       "Text(0.5, 1.0, '27in FHD Monitor\\t')"
      ]
     },
     "execution_count": 102,
     "metadata": {},
     "output_type": "execute_result"
    },
    {
     "name": "stderr",
     "output_type": "stream",
     "text": [
      "C:\\Users\\user\\AppData\\Local\\Programs\\Python\\Python39\\lib\\site-packages\\matplotlib\\backends\\backend_agg.py:240: RuntimeWarning: Glyph 9 missing from current font.\n",
      "  font.set_text(s, 0.0, flags=flags)\n",
      "C:\\Users\\user\\AppData\\Local\\Programs\\Python\\Python39\\lib\\site-packages\\matplotlib\\backends\\backend_agg.py:203: RuntimeWarning: Glyph 9 missing from current font.\n",
      "  font.set_text(s, 0, flags=flags)\n"
     ]
    },
    {
     "data": {
      "image/png": "[encoded data removed]",
      "text/plain": [
       "<Figure size 432x288 with 1 Axes>"
      ]
     },
     "metadata": {
      "needs_background": "light"
     },
     "output_type": "display_data"
    }
   ],
   "source": [
    "df[df['productID']==12]['month'].value_counts().plot(kind='bar')\n",
    "plt.title('27in FHD Monitor\t')"
   ]
  },
  {
   "cell_type": "markdown",
   "metadata": {},
   "source": [
    "## calculate total income from each product in each month"
   ]
  },
  {
   "cell_type": "code",
   "execution_count": 103,
   "metadata": {},
   "outputs": [],
   "source": [
    "income_of_each_product_in_each_month={}\n",
    "total_income_in_each_month ={}\n",
    "\n",
    "def calculateRevenue(row):\n",
    "    \n",
    "    try:\n",
    "        productId=row['productID']\n",
    "        month=row['month']\n",
    "        income=row['Price Each']*row['Quantity Ordered']\n",
    "        if productId not in income_of_each_product_in_each_month:\n",
    "            income_of_each_product_in_each_month[productId]=[0 for n in range(12)]\n",
    "        income_of_each_product_in_each_month[productId][month]+=income\n",
    "        if month not in total_income_in_each_month:\n",
    "            total_income_in_each_month[month]=[0 for n in range(19)]\n",
    "        \n",
    "        total_income_in_each_month[month][productId]+=income\n",
    "    except KeyError:\n",
    "        print(row)\n",
    "         "
   ]
  },
  {
   "cell_type": "code",
   "execution_count": 104,
   "metadata": {},
   "outputs": [
    {
     "data": {
      "text/plain": [
       "['Order ID',\n",
       " 'Product',\n",
       " 'Quantity Ordered',\n",
       " 'Price Each',\n",
       " 'Order Date',\n",
       " 'Purchase Address',\n",
       " 'month',\n",
       " 'productID']"
      ]
     },
     "execution_count": 104,
     "metadata": {},
     "output_type": "execute_result"
    }
   ],
   "source": [
    "list(df.columns)"
   ]
  },
  {
   "cell_type": "code",
   "execution_count": 105,
   "metadata": {},
   "outputs": [],
   "source": [
    "for row in df.iloc:\n",
    "    calculateRevenue(row)"
   ]
  },
  {
   "cell_type": "code",
   "execution_count": 106,
   "metadata": {},
   "outputs": [
    {
     "data": {
      "text/plain": [
       "{0: [15379.65000000027,\n",
       "  19765.300000000512,\n",
       "  23230.80000000072,\n",
       "  27114.550000000974,\n",
       "  24712.6000000008,\n",
       "  20016.250000000546,\n",
       "  22095.55000000066,\n",
       "  17470.900000000387,\n",
       "  19048.300000000454,\n",
       "  31870.650000001235,\n",
       "  26959.200000000947,\n",
       "  38837.500000000065],\n",
       " 1: [66193.3799999996,\n",
       "  84091.5900000005,\n",
       "  119788.02000000235,\n",
       "  128687.13000000281,\n",
       "  117588.24000000222,\n",
       "  98290.17000000126,\n",
       "  105989.40000000167,\n",
       "  88091.1900000007,\n",
       "  82791.72000000048,\n",
       "  146485.35000000152,\n",
       "  125187.48000000263,\n",
       "  182381.75999999826],\n",
       " 2: [191400.0,\n",
       "  228600.0,\n",
       "  277800.0,\n",
       "  348000.0,\n",
       "  288000.0,\n",
       "  234600.0,\n",
       "  246600.0,\n",
       "  216600.0,\n",
       "  204600.0,\n",
       "  358200.0,\n",
       "  295800.0,\n",
       "  429000.0],\n",
       " 3: [13009.14999999981,\n",
       "  15335.209999999766,\n",
       "  19951.360000000164,\n",
       "  24759.350000000664,\n",
       "  22493.240000000427,\n",
       "  17673.25999999988,\n",
       "  18764.350000000002,\n",
       "  15479.08999999977,\n",
       "  15598.989999999767,\n",
       "  27265.260000000962,\n",
       "  23188.660000000516,\n",
       "  32960.51000000157],\n",
       " 4: [399500.0,\n",
       "  469200.0,\n",
       "  644300.0,\n",
       "  771800.0,\n",
       "  790500.0,\n",
       "  605200.0,\n",
       "  625600.0,\n",
       "  508300.0,\n",
       "  489600.0,\n",
       "  892500.0,\n",
       "  748000.0,\n",
       "  1093100.0],\n",
       " 5: [17267.25000000031,\n",
       "  22410.05000000055,\n",
       "  28001.350000000828,\n",
       "  35476.35000000059,\n",
       "  31021.250000000982,\n",
       "  25220.650000000685,\n",
       "  27074.450000000783,\n",
       "  21572.85000000051,\n",
       "  21408.400000000507,\n",
       "  38451.40000000007,\n",
       "  33039.500000001,\n",
       "  46150.64999999874],\n",
       " 6: [122066.87000000065,\n",
       "  166525.7299999999,\n",
       "  186805.20999999944,\n",
       "  220734.3399999987,\n",
       "  211374.57999999885,\n",
       "  175885.4899999997,\n",
       "  188365.1699999994,\n",
       "  171595.5999999998,\n",
       "  148586.19000000035,\n",
       "  281962.7699999973,\n",
       "  224244.24999999854,\n",
       "  336951.35999999585],\n",
       " 7: [5468.160000000064,\n",
       "  6662.400000000111,\n",
       "  8509.440000000188,\n",
       "  10832.640000000263,\n",
       "  9154.560000000205,\n",
       "  8048.640000000161,\n",
       "  7952.640000000161,\n",
       "  7019.520000000128,\n",
       "  6800.640000000116,\n",
       "  11289.60000000029,\n",
       "  10080.000000000236,\n",
       "  14300.160000000395],\n",
       " 8: [122700.0,\n",
       "  151800.0,\n",
       "  198300.0,\n",
       "  227850.0,\n",
       "  204750.0,\n",
       "  175050.0,\n",
       "  183000.0,\n",
       "  151350.0,\n",
       "  145350.0,\n",
       "  250650.0,\n",
       "  226950.0,\n",
       "  311400.0],\n",
       " 9: [4783.999999999888,\n",
       "  5896.27999999985,\n",
       "  7412.209999999768,\n",
       "  8787.609999999679,\n",
       "  8751.729999999703,\n",
       "  6464.3799999998155,\n",
       "  7071.349999999782,\n",
       "  6042.789999999836,\n",
       "  5749.769999999864,\n",
       "  10055.369999999612,\n",
       "  9044.749999999665,\n",
       "  12680.589999999413],\n",
       " 10: [266700.0,\n",
       "  307300.0,\n",
       "  376600.0,\n",
       "  485100.0,\n",
       "  448000.0,\n",
       "  373100.0,\n",
       "  351400.0,\n",
       "  307300.0,\n",
       "  277900.0,\n",
       "  501200.0,\n",
       "  465500.0,\n",
       "  634200.0],\n",
       " 11: [73200.0,\n",
       "  93900.0,\n",
       "  108600.0,\n",
       "  138000.0,\n",
       "  119700.0,\n",
       "  110100.0,\n",
       "  119700.0,\n",
       "  99300.0,\n",
       "  88200.0,\n",
       "  157200.0,\n",
       "  138000.0,\n",
       "  199800.0],\n",
       " 12: [63295.779999999744,\n",
       "  71245.24999999993,\n",
       "  91193.92000000062,\n",
       "  110392.64000000128,\n",
       "  103343.11000000103,\n",
       "  85044.33000000041,\n",
       "  91043.93000000059,\n",
       "  73645.09,\n",
       "  72445.16999999997,\n",
       "  118642.09000000157,\n",
       "  107842.81000000112,\n",
       "  144290.38000000114],\n",
       " 13: [23977.820000000083,\n",
       "  27057.54000000013,\n",
       "  35856.74000000015,\n",
       "  43226.07000000003,\n",
       "  37506.59000000011,\n",
       "  35416.78000000016,\n",
       "  35966.73000000015,\n",
       "  28707.39000000015,\n",
       "  30467.230000000174,\n",
       "  47185.70999999994,\n",
       "  46195.79999999997,\n",
       "  62584.309999999656],\n",
       " 14: [23400.0,\n",
       "  22800.0,\n",
       "  29400.0,\n",
       "  46800.0,\n",
       "  45600.0,\n",
       "  25800.0,\n",
       "  33000.0,\n",
       "  27600.0,\n",
       "  18000.0,\n",
       "  30000.0,\n",
       "  33600.0,\n",
       "  51600.0],\n",
       " 15: [218997.8099999995,\n",
       "  274997.24999999895,\n",
       "  344996.5499999983,\n",
       "  389996.0999999979,\n",
       "  370996.28999999806,\n",
       "  313996.8599999986,\n",
       "  318996.80999999854,\n",
       "  273997.25999999896,\n",
       "  248997.5099999992,\n",
       "  460995.3899999972,\n",
       "  373996.25999999803,\n",
       "  538994.6099999965],\n",
       " 16: [50400.0,\n",
       "  51600.0,\n",
       "  69600.0,\n",
       "  88000.0,\n",
       "  74000.0,\n",
       "  62000.0,\n",
       "  58400.0,\n",
       "  57200.0,\n",
       "  50400.0,\n",
       "  81200.0,\n",
       "  70800.0,\n",
       "  113600.0],\n",
       " 17: [25200.0,\n",
       "  24000.0,\n",
       "  38400.0,\n",
       "  36600.0,\n",
       "  38400.0,\n",
       "  33000.0,\n",
       "  31200.0,\n",
       "  28800.0,\n",
       "  27600.0,\n",
       "  36600.0,\n",
       "  31800.0,\n",
       "  48000.0],\n",
       " 18: [119316.86000000063,\n",
       "  158835.8200000001,\n",
       "  198354.77999999915,\n",
       "  248513.4599999979,\n",
       "  206714.55999999892,\n",
       "  172895.44999999975,\n",
       "  175555.37999999974,\n",
       "  144396.20000000045,\n",
       "  144016.21000000046,\n",
       "  254973.28999999777,\n",
       "  209374.48999999886,\n",
       "  322611.50999999605]}"
      ]
     },
     "execution_count": 106,
     "metadata": {},
     "output_type": "execute_result"
    }
   ],
   "source": [
    "income_of_each_product_in_each_month"
   ]
  },
  {
   "cell_type": "markdown",
   "metadata": {},
   "source": [
    "### income in january"
   ]
  },
  {
   "cell_type": "code",
   "execution_count": 107,
   "metadata": {},
   "outputs": [
    {
     "data": {
      "image/png": "[encoded data removed]",
      "text/plain": [
       "<Figure size 432x288 with 1 Axes>"
      ]
     },
     "metadata": {
      "needs_background": "light"
     },
     "output_type": "display_data"
    }
   ],
   "source": [
    "productNames=list(df['Product'].unique())\n",
    "plt.bar(range(len(productNames)),total_income_in_each_month[0],tick_label=productNames )\n",
    "plt.title('income in january')\n",
    "plt.xticks(rotation=90)\n",
    "plt.show()"
   ]
  },
  {
   "cell_type": "markdown",
   "metadata": {},
   "source": [
    "### income from USB-C Charging Cable in each month"
   ]
  },
  {
   "cell_type": "code",
   "execution_count": 108,
   "metadata": {},
   "outputs": [
    {
     "data": {
      "image/png": "[encoded data removed]",
      "text/plain": [
       "<Figure size 432x288 with 1 Axes>"
      ]
     },
     "metadata": {
      "needs_background": "light"
     },
     "output_type": "display_data"
    }
   ],
   "source": [
    "monthNames=[\"January\", \"February\", \"March\", \"April\", \"May\", \"June\", \"July\", \"August\", \"September\", \"October\", \"November\", \"December\"]\n",
    "plt.bar(range(len(monthNames)),income_of_each_product_in_each_month[0],tick_label=monthNames )\n",
    "plt.title(\"income from USB-C Charging Cable in each month\")\n",
    "plt.xticks(rotation=90)\n",
    "plt.show()"
   ]
  },
  {
   "cell_type": "markdown",
   "metadata": {},
   "source": [
    "# get city name"
   ]
  },
  {
   "cell_type": "code",
   "execution_count": 109,
   "metadata": {},
   "outputs": [
    {
     "name": "stderr",
     "output_type": "stream",
     "text": [
      "C:\\Users\\user\\AppData\\Local\\Temp/ipykernel_14844/2878853266.py:4: SettingWithCopyWarning: \n",
      "A value is trying to be set on a copy of a slice from a DataFrame.\n",
      "Try using .loc[row_indexer,col_indexer] = value instead\n",
      "\n",
      "See the caveats in the documentation: https://pandas.pydata.org/pandas-docs/stable/user_guide/indexing.html#returning-a-view-versus-a-copy\n",
      "  df['city']=df['Purchase Address'].apply(getCity)\n"
     ]
    }
   ],
   "source": [
    "def getCity(place: str)->str:\n",
    "    return place.split(',')[1]\n",
    "\n",
    "df['city']=df['Purchase Address'].apply(getCity)"
   ]
  },
  {
   "cell_type": "code",
   "execution_count": 110,
   "metadata": {},
   "outputs": [
    {
     "data": {
      "text/html": [
       "<div>\n",
       "<style scoped>\n",
       "    .dataframe tbody tr th:only-of-type {\n",
       "        vertical-align: middle;\n",
       "    }\n",
       "\n",
       "    .dataframe tbody tr th {\n",
       "        vertical-align: top;\n",
       "    }\n",
       "\n",
       "    .dataframe thead th {\n",
       "        text-align: right;\n",
       "    }\n",
       "</style>\n",
       "<table border=\"1\" class=\"dataframe\">\n",
       "  <thead>\n",
       "    <tr style=\"text-align: right;\">\n",
       "      <th></th>\n",
       "      <th>Order ID</th>\n",
       "      <th>Product</th>\n",
       "      <th>Quantity Ordered</th>\n",
       "      <th>Price Each</th>\n",
       "      <th>Order Date</th>\n",
       "      <th>Purchase Address</th>\n",
       "      <th>month</th>\n",
       "      <th>productID</th>\n",
       "      <th>city</th>\n",
       "    </tr>\n",
       "  </thead>\n",
       "  <tbody>\n",
       "    <tr>\n",
       "      <th>39183</th>\n",
       "      <td>304046</td>\n",
       "      <td>Macbook Pro Laptop</td>\n",
       "      <td>1</td>\n",
       "      <td>1700.00</td>\n",
       "      <td>12/15/19 17:31</td>\n",
       "      <td>709 Elm St, Los Angeles, CA 90001</td>\n",
       "      <td>11</td>\n",
       "      <td>4</td>\n",
       "      <td>Los Angeles</td>\n",
       "    </tr>\n",
       "    <tr>\n",
       "      <th>17287</th>\n",
       "      <td>193058</td>\n",
       "      <td>Wired Headphones</td>\n",
       "      <td>1</td>\n",
       "      <td>11.99</td>\n",
       "      <td>04/18/19 23:05</td>\n",
       "      <td>573 Chestnut St, San Francisco, CA 94016</td>\n",
       "      <td>3</td>\n",
       "      <td>3</td>\n",
       "      <td>San Francisco</td>\n",
       "    </tr>\n",
       "    <tr>\n",
       "      <th>36632</th>\n",
       "      <td>301612</td>\n",
       "      <td>AAA Batteries (4-pack)</td>\n",
       "      <td>1</td>\n",
       "      <td>2.99</td>\n",
       "      <td>12/27/19 12:15</td>\n",
       "      <td>892 Maple St, San Francisco, CA 94016</td>\n",
       "      <td>11</td>\n",
       "      <td>9</td>\n",
       "      <td>San Francisco</td>\n",
       "    </tr>\n",
       "    <tr>\n",
       "      <th>81953</th>\n",
       "      <td>227394</td>\n",
       "      <td>Wired Headphones</td>\n",
       "      <td>1</td>\n",
       "      <td>11.99</td>\n",
       "      <td>07/30/19 10:26</td>\n",
       "      <td>590 12th St, San Francisco, CA 94016</td>\n",
       "      <td>6</td>\n",
       "      <td>3</td>\n",
       "      <td>San Francisco</td>\n",
       "    </tr>\n",
       "    <tr>\n",
       "      <th>182894</th>\n",
       "      <td>255558</td>\n",
       "      <td>USB-C Charging Cable</td>\n",
       "      <td>1</td>\n",
       "      <td>11.95</td>\n",
       "      <td>09/11/19 18:47</td>\n",
       "      <td>866 Pine St, Los Angeles, CA 90001</td>\n",
       "      <td>8</td>\n",
       "      <td>0</td>\n",
       "      <td>Los Angeles</td>\n",
       "    </tr>\n",
       "    <tr>\n",
       "      <th>3577</th>\n",
       "      <td>179987</td>\n",
       "      <td>AA Batteries (4-pack)</td>\n",
       "      <td>2</td>\n",
       "      <td>3.84</td>\n",
       "      <td>04/30/19 17:19</td>\n",
       "      <td>261 Lakeview St, Atlanta, GA 30301</td>\n",
       "      <td>3</td>\n",
       "      <td>7</td>\n",
       "      <td>Atlanta</td>\n",
       "    </tr>\n",
       "    <tr>\n",
       "      <th>95161</th>\n",
       "      <td>213265</td>\n",
       "      <td>AAA Batteries (4-pack)</td>\n",
       "      <td>2</td>\n",
       "      <td>2.99</td>\n",
       "      <td>06/20/19 21:10</td>\n",
       "      <td>795 1st St, San Francisco, CA 94016</td>\n",
       "      <td>5</td>\n",
       "      <td>9</td>\n",
       "      <td>San Francisco</td>\n",
       "    </tr>\n",
       "    <tr>\n",
       "      <th>898</th>\n",
       "      <td>177413</td>\n",
       "      <td>Wired Headphones</td>\n",
       "      <td>1</td>\n",
       "      <td>11.99</td>\n",
       "      <td>04/07/19 21:34</td>\n",
       "      <td>892 12th St, Seattle, WA 98101</td>\n",
       "      <td>3</td>\n",
       "      <td>3</td>\n",
       "      <td>Seattle</td>\n",
       "    </tr>\n",
       "    <tr>\n",
       "      <th>42227</th>\n",
       "      <td>306947</td>\n",
       "      <td>USB-C Charging Cable</td>\n",
       "      <td>1</td>\n",
       "      <td>11.95</td>\n",
       "      <td>12/21/19 12:48</td>\n",
       "      <td>755 Maple St, New York City, NY 10001</td>\n",
       "      <td>11</td>\n",
       "      <td>0</td>\n",
       "      <td>New York City</td>\n",
       "    </tr>\n",
       "    <tr>\n",
       "      <th>169444</th>\n",
       "      <td>273356</td>\n",
       "      <td>AA Batteries (4-pack)</td>\n",
       "      <td>1</td>\n",
       "      <td>3.84</td>\n",
       "      <td>10/07/19 21:20</td>\n",
       "      <td>660 Highland St, San Francisco, CA 94016</td>\n",
       "      <td>9</td>\n",
       "      <td>7</td>\n",
       "      <td>San Francisco</td>\n",
       "    </tr>\n",
       "  </tbody>\n",
       "</table>\n",
       "</div>"
      ],
      "text/plain": [
       "       Order ID                 Product  Quantity Ordered  Price Each  \\\n",
       "39183    304046      Macbook Pro Laptop                 1     1700.00   \n",
       "17287    193058        Wired Headphones                 1       11.99   \n",
       "36632    301612  AAA Batteries (4-pack)                 1        2.99   \n",
       "81953    227394        Wired Headphones                 1       11.99   \n",
       "182894   255558    USB-C Charging Cable                 1       11.95   \n",
       "3577     179987   AA Batteries (4-pack)                 2        3.84   \n",
       "95161    213265  AAA Batteries (4-pack)                 2        2.99   \n",
       "898      177413        Wired Headphones                 1       11.99   \n",
       "42227    306947    USB-C Charging Cable                 1       11.95   \n",
       "169444   273356   AA Batteries (4-pack)                 1        3.84   \n",
       "\n",
       "            Order Date                          Purchase Address  month  \\\n",
       "39183   12/15/19 17:31         709 Elm St, Los Angeles, CA 90001     11   \n",
       "17287   04/18/19 23:05  573 Chestnut St, San Francisco, CA 94016      3   \n",
       "36632   12/27/19 12:15     892 Maple St, San Francisco, CA 94016     11   \n",
       "81953   07/30/19 10:26      590 12th St, San Francisco, CA 94016      6   \n",
       "182894  09/11/19 18:47        866 Pine St, Los Angeles, CA 90001      8   \n",
       "3577    04/30/19 17:19        261 Lakeview St, Atlanta, GA 30301      3   \n",
       "95161   06/20/19 21:10       795 1st St, San Francisco, CA 94016      5   \n",
       "898     04/07/19 21:34            892 12th St, Seattle, WA 98101      3   \n",
       "42227   12/21/19 12:48     755 Maple St, New York City, NY 10001     11   \n",
       "169444  10/07/19 21:20  660 Highland St, San Francisco, CA 94016      9   \n",
       "\n",
       "        productID            city  \n",
       "39183           4     Los Angeles  \n",
       "17287           3   San Francisco  \n",
       "36632           9   San Francisco  \n",
       "81953           3   San Francisco  \n",
       "182894          0     Los Angeles  \n",
       "3577            7         Atlanta  \n",
       "95161           9   San Francisco  \n",
       "898             3         Seattle  \n",
       "42227           0   New York City  \n",
       "169444          7   San Francisco  "
      ]
     },
     "execution_count": 110,
     "metadata": {},
     "output_type": "execute_result"
    }
   ],
   "source": [
    "df.sample(10)"
   ]
  },
  {
   "cell_type": "code",
   "execution_count": 111,
   "metadata": {},
   "outputs": [],
   "source": [
    "cityNames=list(df['city'].unique())\n",
    "cityNames\n",
    "cityIndexMap={}\n",
    "cityIndex=0\n",
    "for city in cityNames:\n",
    "    cityIndexMap[city]=cityIndex\n",
    "    cityIndex+=1\n"
   ]
  },
  {
   "cell_type": "code",
   "execution_count": 112,
   "metadata": {},
   "outputs": [
    {
     "name": "stderr",
     "output_type": "stream",
     "text": [
      "C:\\Users\\user\\AppData\\Local\\Temp/ipykernel_14844/3428157813.py:1: SettingWithCopyWarning: \n",
      "A value is trying to be set on a copy of a slice from a DataFrame.\n",
      "Try using .loc[row_indexer,col_indexer] = value instead\n",
      "\n",
      "See the caveats in the documentation: https://pandas.pydata.org/pandas-docs/stable/user_guide/indexing.html#returning-a-view-versus-a-copy\n",
      "  df['cityID']=df['city'].apply(lambda city: cityIndexMap[city])\n"
     ]
    }
   ],
   "source": [
    "df['cityID']=df['city'].apply(lambda city: cityIndexMap[city])"
   ]
  },
  {
   "cell_type": "code",
   "execution_count": 113,
   "metadata": {},
   "outputs": [
    {
     "data": {
      "text/html": [
       "<div>\n",
       "<style scoped>\n",
       "    .dataframe tbody tr th:only-of-type {\n",
       "        vertical-align: middle;\n",
       "    }\n",
       "\n",
       "    .dataframe tbody tr th {\n",
       "        vertical-align: top;\n",
       "    }\n",
       "\n",
       "    .dataframe thead th {\n",
       "        text-align: right;\n",
       "    }\n",
       "</style>\n",
       "<table border=\"1\" class=\"dataframe\">\n",
       "  <thead>\n",
       "    <tr style=\"text-align: right;\">\n",
       "      <th></th>\n",
       "      <th>Order ID</th>\n",
       "      <th>Product</th>\n",
       "      <th>Quantity Ordered</th>\n",
       "      <th>Price Each</th>\n",
       "      <th>Order Date</th>\n",
       "      <th>Purchase Address</th>\n",
       "      <th>month</th>\n",
       "      <th>productID</th>\n",
       "      <th>city</th>\n",
       "      <th>cityID</th>\n",
       "    </tr>\n",
       "  </thead>\n",
       "  <tbody>\n",
       "    <tr>\n",
       "      <th>180201</th>\n",
       "      <td>252983</td>\n",
       "      <td>Vareebadd Phone</td>\n",
       "      <td>1</td>\n",
       "      <td>400.00</td>\n",
       "      <td>09/17/19 13:18</td>\n",
       "      <td>734 2nd St, Seattle, WA 98101</td>\n",
       "      <td>8</td>\n",
       "      <td>16</td>\n",
       "      <td>Seattle</td>\n",
       "      <td>4</td>\n",
       "    </tr>\n",
       "    <tr>\n",
       "      <th>138245</th>\n",
       "      <td>279866</td>\n",
       "      <td>Lightning Charging Cable</td>\n",
       "      <td>1</td>\n",
       "      <td>14.95</td>\n",
       "      <td>11/12/19 11:55</td>\n",
       "      <td>673 North St, San Francisco, CA 94016</td>\n",
       "      <td>10</td>\n",
       "      <td>5</td>\n",
       "      <td>San Francisco</td>\n",
       "      <td>3</td>\n",
       "    </tr>\n",
       "    <tr>\n",
       "      <th>125979</th>\n",
       "      <td>199314</td>\n",
       "      <td>iPhone</td>\n",
       "      <td>1</td>\n",
       "      <td>700.00</td>\n",
       "      <td>05/17/19 00:09</td>\n",
       "      <td>773 8th St, New York City, NY 10001</td>\n",
       "      <td>4</td>\n",
       "      <td>10</td>\n",
       "      <td>New York City</td>\n",
       "      <td>6</td>\n",
       "    </tr>\n",
       "    <tr>\n",
       "      <th>82103</th>\n",
       "      <td>227536</td>\n",
       "      <td>AA Batteries (4-pack)</td>\n",
       "      <td>2</td>\n",
       "      <td>3.84</td>\n",
       "      <td>07/11/19 13:24</td>\n",
       "      <td>141 Highland St, Los Angeles, CA 90001</td>\n",
       "      <td>6</td>\n",
       "      <td>7</td>\n",
       "      <td>Los Angeles</td>\n",
       "      <td>2</td>\n",
       "    </tr>\n",
       "    <tr>\n",
       "      <th>116981</th>\n",
       "      <td>173198</td>\n",
       "      <td>Wired Headphones</td>\n",
       "      <td>1</td>\n",
       "      <td>11.99</td>\n",
       "      <td>03/10/19 14:01</td>\n",
       "      <td>66 Washington St, Seattle, WA 98101</td>\n",
       "      <td>2</td>\n",
       "      <td>3</td>\n",
       "      <td>Seattle</td>\n",
       "      <td>4</td>\n",
       "    </tr>\n",
       "  </tbody>\n",
       "</table>\n",
       "</div>"
      ],
      "text/plain": [
       "       Order ID                   Product  Quantity Ordered  Price Each  \\\n",
       "180201   252983           Vareebadd Phone                 1      400.00   \n",
       "138245   279866  Lightning Charging Cable                 1       14.95   \n",
       "125979   199314                    iPhone                 1      700.00   \n",
       "82103    227536     AA Batteries (4-pack)                 2        3.84   \n",
       "116981   173198          Wired Headphones                 1       11.99   \n",
       "\n",
       "            Order Date                        Purchase Address  month  \\\n",
       "180201  09/17/19 13:18           734 2nd St, Seattle, WA 98101      8   \n",
       "138245  11/12/19 11:55   673 North St, San Francisco, CA 94016     10   \n",
       "125979  05/17/19 00:09     773 8th St, New York City, NY 10001      4   \n",
       "82103   07/11/19 13:24  141 Highland St, Los Angeles, CA 90001      6   \n",
       "116981  03/10/19 14:01     66 Washington St, Seattle, WA 98101      2   \n",
       "\n",
       "        productID            city  cityID  \n",
       "180201         16         Seattle       4  \n",
       "138245          5   San Francisco       3  \n",
       "125979         10   New York City       6  \n",
       "82103           7     Los Angeles       2  \n",
       "116981          3         Seattle       4  "
      ]
     },
     "execution_count": 113,
     "metadata": {},
     "output_type": "execute_result"
    }
   ],
   "source": [
    "df.sample(5)"
   ]
  },
  {
   "cell_type": "markdown",
   "metadata": {},
   "source": [
    "## city to product relation"
   ]
  },
  {
   "cell_type": "code",
   "execution_count": 114,
   "metadata": {},
   "outputs": [],
   "source": [
    "income_in_each_city={}\n",
    "income_from_each_product={}\n",
    "\n",
    "def getCityToProductRevenue(row):\n",
    "    try:\n",
    "        productId=row['productID']\n",
    "        city=row['cityID']\n",
    "        income=row['Price Each']*row['Quantity Ordered']\n",
    "        if productId not in income_from_each_product:\n",
    "            income_from_each_product[productId]=[0 for n in range(len(cityNames))]\n",
    "        income_from_each_product[productId][city]+=income\n",
    "        if city not in income_in_each_city:\n",
    "            income_in_each_city[city]=[0 for n in range(len(productNames))]\n",
    "        \n",
    "        income_in_each_city[city][productId]+=income\n",
    "    except KeyError:\n",
    "        print(row)"
   ]
  },
  {
   "cell_type": "code",
   "execution_count": 115,
   "metadata": {},
   "outputs": [],
   "source": [
    "for row in df.iloc:\n",
    "    getCityToProductRevenue(row)"
   ]
  },
  {
   "cell_type": "code",
   "execution_count": 116,
   "metadata": {},
   "outputs": [
    {
     "data": {
      "image/png": "[encoded data removed]",
      "text/plain": [
       "<Figure size 432x288 with 1 Axes>"
      ]
     },
     "metadata": {
      "needs_background": "light"
     },
     "output_type": "display_data"
    }
   ],
   "source": [
    "\n",
    "plt.bar(range(len(cityNames)),income_from_each_product[0],tick_label=cityNames )\n",
    "plt.title(\"income from USB-C Charging Cable in each city\")\n",
    "plt.xticks(rotation=90)\n",
    "plt.show()"
   ]
  },
  {
   "cell_type": "code",
   "execution_count": 117,
   "metadata": {},
   "outputs": [
    {
     "data": {
      "image/png": "[encoded data removed]",
      "text/plain": [
       "<Figure size 432x288 with 1 Axes>"
      ]
     },
     "metadata": {
      "needs_background": "light"
     },
     "output_type": "display_data"
    }
   ],
   "source": [
    "plt.bar(range(len(productNames)),income_in_each_city[0],tick_label=productNames )\n",
    "plt.title(\"income in Dallas from each product\")\n",
    "plt.xticks(rotation=90)\n",
    "plt.show()"
   ]
  },
  {
   "cell_type": "code",
   "execution_count": null,
   "metadata": {},
   "outputs": [],
   "source": []
  }
 ],
 "metadata": {
  "interpreter": {
   "hash": "247ab06e135bb35fa78c5eff31b2a9a0050dcb5fb773c2631d2a29ac689eeccb"
  },
  "kernelspec": {
   "display_name": "Python 3.9.0 64-bit",
   "language": "python",
   "name": "python3"
  },
  "language_info": {
   "codemirror_mode": {
    "name": "ipython",
    "version": 3
   },
   "file_extension": ".py",
   "mimetype": "text/x-python",
   "name": "python",
   "nbconvert_exporter": "python",
   "pygments_lexer": "ipython3",
   "version": "3.9.0"
  },
  "orig_nbformat": 4
 },
 "nbformat": 4,
 "nbformat_minor": 2
}
